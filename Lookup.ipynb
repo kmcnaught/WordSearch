{
 "cells": [
  {
   "cell_type": "code",
   "execution_count": null,
   "id": "b4c48e68",
   "metadata": {},
   "outputs": [],
   "source": [
    "# Change this word, then hit \"Run\"\n",
    "word = \"dctatr\"\n",
    "\n",
    "\n",
    "import utils\n",
    "from utils import DictionaryLookup\n",
    "d = DictionaryLookup(\"symspell.pickle\")\n",
    "d.lookup(word,2)"
   ]
  },
  {
   "cell_type": "code",
   "execution_count": null,
   "id": "dd89ceaf",
   "metadata": {},
   "outputs": [],
   "source": []
  },
  {
   "cell_type": "code",
   "execution_count": null,
   "id": "0ce57240",
   "metadata": {},
   "outputs": [],
   "source": []
  },
  {
   "cell_type": "code",
   "execution_count": null,
   "id": "830b282d",
   "metadata": {},
   "outputs": [],
   "source": []
  }
 ],
 "metadata": {
  "kernelspec": {
   "display_name": "Python 3 (ipykernel)",
   "language": "python",
   "name": "python3"
  },
  "language_info": {
   "codemirror_mode": {
    "name": "ipython",
    "version": 3
   },
   "file_extension": ".py",
   "mimetype": "text/x-python",
   "name": "python",
   "nbconvert_exporter": "python",
   "pygments_lexer": "ipython3",
   "version": "3.7.1"
  }
 },
 "nbformat": 4,
 "nbformat_minor": 5
}
